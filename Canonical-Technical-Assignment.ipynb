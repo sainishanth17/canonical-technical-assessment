{
 "cells": [
  {
   "cell_type": "code",
   "execution_count": 2,
   "id": "344e82d6-b375-4279-a884-fbad7bb2ecd2",
   "metadata": {},
   "outputs": [
    {
     "name": "stdout",
     "output_type": "stream",
     "text": [
      "Requirement already satisfied: requests in /opt/anaconda3/lib/python3.12/site-packages (2.32.3)\n",
      "Requirement already satisfied: charset-normalizer<4,>=2 in /opt/anaconda3/lib/python3.12/site-packages (from requests) (3.3.2)\n",
      "Requirement already satisfied: idna<4,>=2.5 in /opt/anaconda3/lib/python3.12/site-packages (from requests) (3.7)\n",
      "Requirement already satisfied: urllib3<3,>=1.21.1 in /opt/anaconda3/lib/python3.12/site-packages (from requests) (2.2.3)\n",
      "Requirement already satisfied: certifi>=2017.4.17 in /opt/anaconda3/lib/python3.12/site-packages (from requests) (2024.8.30)\n"
     ]
    }
   ],
   "source": [
    "! pip install requests"
   ]
  },
  {
   "cell_type": "markdown",
   "id": "5365c104-18c9-4d19-a95e-0ffb50b9a146",
   "metadata": {},
   "source": [
    "### Getting the Lists"
   ]
  },
  {
   "cell_type": "code",
   "execution_count": 12,
   "id": "d42feed2-2faf-441b-af83-34480c9811e8",
   "metadata": {},
   "outputs": [
    {
     "name": "stdout",
     "output_type": "stream",
     "text": [
      "Lists for the board:\n",
      "List Name: Assessment 1, List ID: 67ef18989b934e609f6eb8a9\n",
      "List Name: Assessment 2, List ID: 67ef18973dd1e1bc8bfba2be\n",
      "List Name: Assessment, List ID: 67ef189773582cc4c940d9a5\n"
     ]
    }
   ],
   "source": [
    "\n",
    "import requests\n",
    "\n",
    "API_KEY = '4ce723d9a5b1e2d799a267ba38717ffc' \n",
    "OAUTH_TOKEN = 'ATTA2086e593663f3fe77a3fc02246c9c9a7242ae05d4a2cc4d7a2fa51373fc5a7170C7BE20F' \n",
    "BASE_URL = 'https://api.trello.com/1'\n",
    "\n",
    "board_id = 'WcVHSTrk' \n",
    "\n",
    "url = f'{BASE_URL}/boards/{board_id}/lists'\n",
    "params = {\n",
    "    'key': API_KEY,\n",
    "    'token': OAUTH_TOKEN\n",
    "}\n",
    "\n",
    "response = requests.get(url, params=params)\n",
    "\n",
    "if response.status_code == 200:\n",
    "    print(\"Lists for the board:\")\n",
    "    lists = response.json()\n",
    "    for lst in lists:\n",
    "        print(f\"List Name: {lst['name']}, List ID: {lst['id']}\")\n",
    "else:\n",
    "    print(\"Failed to retrieve lists. Please check your board ID.\")\n"
   ]
  },
  {
   "cell_type": "markdown",
   "id": "40d13172-d9b9-455c-931a-372e85463f3c",
   "metadata": {},
   "source": [
    "### Creating a Card"
   ]
  },
  {
   "cell_type": "code",
   "execution_count": 15,
   "id": "6397b5b2-2d4e-49c8-99cc-979c80af7362",
   "metadata": {},
   "outputs": [
    {
     "name": "stdout",
     "output_type": "stream",
     "text": [
      "Card Created Successfully!\n",
      "Card ID: 67ef2b53fbc8d6d7b17c06a1\n"
     ]
    }
   ],
   "source": [
    "import requests\n",
    "\n",
    "API_KEY = '4ce723d9a5b1e2d799a267ba38717ffc'\n",
    "OAUTH_TOKEN = 'ATTA2086e593663f3fe77a3fc02246c9c9a7242ae05d4a2cc4d7a2fa51373fc5a7170C7BE20F'\n",
    "BASE_URL = 'https://api.trello.com/1'\n",
    "\n",
    "def create_card(list_id, card_name, card_desc, labels=[]):\n",
    "    url = f'{BASE_URL}/cards'\n",
    "    params = {\n",
    "        'key': API_KEY,\n",
    "        'token': OAUTH_TOKEN,\n",
    "        'idList': list_id,\n",
    "        'name': card_name,\n",
    "        'desc': card_desc,\n",
    "        'labels': ','.join(labels)  \n",
    "    }\n",
    "    response = requests.post(url, params=params)\n",
    "    if response.status_code == 200:\n",
    "        print(\"Card Created Successfully!\")\n",
    "        return response.json() \n",
    "    else:\n",
    "        print(f\"Failed to create card: {response.status_code}\")\n",
    "        return None\n",
    "\n",
    "\n",
    "list_id = '67ef18989b934e609f6eb8a9' \n",
    "card_name = 'Canonical'\n",
    "card_desc = 'Canonical Technical Assessment'\n",
    "labels = ['label1', 'label2'] \n",
    "\n",
    "card = create_card(list_id, card_name, card_desc, labels)\n",
    "if card:\n",
    "    print(f\"Card ID: {card['id']}\")\n"
   ]
  },
  {
   "cell_type": "code",
   "execution_count": 17,
   "id": "b39f2b34-b50b-4ad7-99e6-23085302bc49",
   "metadata": {},
   "outputs": [
    {
     "name": "stdout",
     "output_type": "stream",
     "text": [
      "Comment added successfully!\n",
      "Comment ID: 67ef2bee691efd30b1dd48ed\n"
     ]
    }
   ],
   "source": [
    "def add_comment_to_card(card_id, comment):\n",
    "    url = f'{BASE_URL}/cards/{card_id}/actions/comments'\n",
    "    params = {\n",
    "        'key': API_KEY,\n",
    "        'token': OAUTH_TOKEN,\n",
    "        'text': comment\n",
    "    }\n",
    "    response = requests.post(url, params=params)\n",
    "    if response.status_code == 200:\n",
    "        print(\"Comment added successfully!\")\n",
    "        return response.json() \n",
    "    else:\n",
    "        print(f\"Failed to add comment: {response.status_code}\")\n",
    "        return None\n",
    "\n",
    "card_id = card['id'] \n",
    "comment = \"This is a comment added to the card.\"\n",
    "\n",
    "comment_response = add_comment_to_card(card_id, comment)\n",
    "if comment_response:\n",
    "    print(f\"Comment ID: {comment_response['id']}\")\n"
   ]
  }
 ],
 "metadata": {
  "kernelspec": {
   "display_name": "Python 3 (ipykernel)",
   "language": "python",
   "name": "python3"
  },
  "language_info": {
   "codemirror_mode": {
    "name": "ipython",
    "version": 3
   },
   "file_extension": ".py",
   "mimetype": "text/x-python",
   "name": "python",
   "nbconvert_exporter": "python",
   "pygments_lexer": "ipython3",
   "version": "3.12.2"
  }
 },
 "nbformat": 4,
 "nbformat_minor": 5
}
